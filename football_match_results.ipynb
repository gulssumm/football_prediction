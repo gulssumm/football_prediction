{
  "nbformat": 4,
  "nbformat_minor": 0,
  "metadata": {
    "colab": {
      "provenance": [],
      "authorship_tag": "ABX9TyNMiTcFoD6WPv+x6ajgL3hM",
      "include_colab_link": true
    },
    "kernelspec": {
      "name": "python3",
      "display_name": "Python 3"
    },
    "language_info": {
      "name": "python"
    }
  },
  "cells": [
    {
      "cell_type": "markdown",
      "metadata": {
        "id": "view-in-github",
        "colab_type": "text"
      },
      "source": [
        "<a href=\"https://colab.research.google.com/github/gulssumm/football_prediction/blob/main/football_match_results.ipynb\" target=\"_parent\"><img src=\"https://colab.research.google.com/assets/colab-badge.svg\" alt=\"Open In Colab\"/></a>"
      ]
    },
    {
      "cell_type": "code",
      "execution_count": 1,
      "metadata": {
        "colab": {
          "base_uri": "https://localhost:8080/"
        },
        "id": "qAbloAWW-qYF",
        "outputId": "a1039f77-5840-47cf-db82-bc03e87cc4e6"
      },
      "outputs": [
        {
          "output_type": "stream",
          "name": "stdout",
          "text": [
            "Requirement already satisfied: requests in /usr/local/lib/python3.10/dist-packages (2.32.3)\n",
            "Requirement already satisfied: charset-normalizer<4,>=2 in /usr/local/lib/python3.10/dist-packages (from requests) (3.4.0)\n",
            "Requirement already satisfied: idna<4,>=2.5 in /usr/local/lib/python3.10/dist-packages (from requests) (3.10)\n",
            "Requirement already satisfied: urllib3<3,>=1.21.1 in /usr/local/lib/python3.10/dist-packages (from requests) (2.2.3)\n",
            "Requirement already satisfied: certifi>=2017.4.17 in /usr/local/lib/python3.10/dist-packages (from requests) (2024.8.30)\n"
          ]
        }
      ],
      "source": [
        "!pip install requests"
      ]
    },
    {
      "cell_type": "code",
      "source": [
        "import requests\n",
        "\n",
        "# Your API key\n",
        "api_key = '6f3408bde6ba42f98e7b24d7edd6473b'\n",
        "\n",
        "# Example endpoint (get competitions data, for example)\n",
        "url = 'https://api.football-data.org/v4/competitions'\n",
        "\n",
        "# Set up the headers with the API key\n",
        "headers = {\n",
        "    'X-Auth-Token': api_key\n",
        "}\n",
        "\n",
        "# Make the request\n",
        "response = requests.get(url, headers=headers)\n",
        "\n",
        "# Check if the request was successful\n",
        "if response.status_code == 200:\n",
        "    data = response.json()\n",
        "    print(data)  # Print the data or process it as needed\n",
        "    print(data['competitions'])\n",
        "    for i in range(data['count']):\n",
        "      print(data['competitions'][i])\n",
        "else:\n",
        "    print(f\"Error: {response.status_code}\")\n"
      ],
      "metadata": {
        "colab": {
          "base_uri": "https://localhost:8080/"
        },
        "id": "F64bnig7-y7k",
        "outputId": "848a7b41-4816-4d72-8b9e-76e7ef44047a"
      },
      "execution_count": 42,
      "outputs": [
        {
          "output_type": "stream",
          "name": "stdout",
          "text": [
            "{'count': 13, 'filters': {'client': 'Gulsum'}, 'competitions': [{'id': 2013, 'area': {'id': 2032, 'name': 'Brazil', 'code': 'BRA', 'flag': 'https://crests.football-data.org/764.svg'}, 'name': 'Campeonato Brasileiro Série A', 'code': 'BSA', 'type': 'LEAGUE', 'emblem': 'https://crests.football-data.org/bsa.png', 'plan': 'TIER_ONE', 'currentSeason': {'id': 2257, 'startDate': '2024-04-13', 'endDate': '2024-12-08', 'currentMatchday': 33, 'winner': None}, 'numberOfAvailableSeasons': 8, 'lastUpdated': '2024-09-13T16:55:53Z'}, {'id': 2016, 'area': {'id': 2072, 'name': 'England', 'code': 'ENG', 'flag': 'https://crests.football-data.org/770.svg'}, 'name': 'Championship', 'code': 'ELC', 'type': 'LEAGUE', 'emblem': 'https://crests.football-data.org/ELC.png', 'plan': 'TIER_ONE', 'currentSeason': {'id': 2301, 'startDate': '2024-08-09', 'endDate': '2025-05-03', 'currentMatchday': 14, 'winner': None}, 'numberOfAvailableSeasons': 8, 'lastUpdated': '2024-09-13T16:51:18Z'}, {'id': 2021, 'area': {'id': 2072, 'name': 'England', 'code': 'ENG', 'flag': 'https://crests.football-data.org/770.svg'}, 'name': 'Premier League', 'code': 'PL', 'type': 'LEAGUE', 'emblem': 'https://crests.football-data.org/PL.png', 'plan': 'TIER_ONE', 'currentSeason': {'id': 2287, 'startDate': '2024-08-16', 'endDate': '2025-05-25', 'currentMatchday': 11, 'winner': None}, 'numberOfAvailableSeasons': 126, 'lastUpdated': '2024-09-13T16:51:24Z'}, {'id': 2001, 'area': {'id': 2077, 'name': 'Europe', 'code': 'EUR', 'flag': 'https://crests.football-data.org/EUR.svg'}, 'name': 'UEFA Champions League', 'code': 'CL', 'type': 'CUP', 'emblem': 'https://crests.football-data.org/CL.png', 'plan': 'TIER_ONE', 'currentSeason': {'id': 2350, 'startDate': '2024-09-17', 'endDate': '2025-05-31', 'currentMatchday': 4, 'winner': None}, 'numberOfAvailableSeasons': 45, 'lastUpdated': '2024-09-13T16:53:48Z'}, {'id': 2018, 'area': {'id': 2077, 'name': 'Europe', 'code': 'EUR', 'flag': 'https://crests.football-data.org/EUR.svg'}, 'name': 'European Championship', 'code': 'EC', 'type': 'CUP', 'emblem': 'https://crests.football-data.org/ec.png', 'plan': 'TIER_ONE', 'currentSeason': {'id': 1537, 'startDate': '2024-06-14', 'endDate': '2024-07-14', 'currentMatchday': 7, 'winner': {'id': 760, 'name': 'Spain', 'shortName': 'Spain', 'tla': 'ESP', 'crest': 'https://crests.football-data.org/760.svg', 'address': 'Ramón y Cajal, s/n Las Rozas 28230', 'website': 'http://www.rfef.es', 'founded': 1909, 'clubColors': 'Red / Blue / Yellow', 'venue': 'Estadio Alfredo Di Stéfano', 'lastUpdated': '2021-05-26T09:46:48Z'}}, 'numberOfAvailableSeasons': 17, 'lastUpdated': '2024-09-13T17:04:30Z'}, {'id': 2015, 'area': {'id': 2081, 'name': 'France', 'code': 'FRA', 'flag': 'https://crests.football-data.org/773.svg'}, 'name': 'Ligue 1', 'code': 'FL1', 'type': 'LEAGUE', 'emblem': 'https://crests.football-data.org/FL1.png', 'plan': 'TIER_ONE', 'currentSeason': {'id': 2290, 'startDate': '2024-08-18', 'endDate': '2025-05-18', 'currentMatchday': 11, 'winner': None}, 'numberOfAvailableSeasons': 81, 'lastUpdated': '2024-09-13T16:49:18Z'}, {'id': 2002, 'area': {'id': 2088, 'name': 'Germany', 'code': 'DEU', 'flag': 'https://crests.football-data.org/759.svg'}, 'name': 'Bundesliga', 'code': 'BL1', 'type': 'LEAGUE', 'emblem': 'https://crests.football-data.org/BL1.png', 'plan': 'TIER_ONE', 'currentSeason': {'id': 2308, 'startDate': '2024-08-23', 'endDate': '2025-05-17', 'currentMatchday': 10, 'winner': None}, 'numberOfAvailableSeasons': 62, 'lastUpdated': '2024-09-13T16:48:00Z'}, {'id': 2019, 'area': {'id': 2114, 'name': 'Italy', 'code': 'ITA', 'flag': 'https://crests.football-data.org/784.svg'}, 'name': 'Serie A', 'code': 'SA', 'type': 'LEAGUE', 'emblem': 'https://crests.football-data.org/SA.png', 'plan': 'TIER_ONE', 'currentSeason': {'id': 2310, 'startDate': '2024-08-18', 'endDate': '2025-05-25', 'currentMatchday': 12, 'winner': None}, 'numberOfAvailableSeasons': 93, 'lastUpdated': '2024-09-13T16:50:07Z'}, {'id': 2003, 'area': {'id': 2163, 'name': 'Netherlands', 'code': 'NLD', 'flag': 'https://crests.football-data.org/8601.svg'}, 'name': 'Eredivisie', 'code': 'DED', 'type': 'LEAGUE', 'emblem': 'https://crests.football-data.org/ED.png', 'plan': 'TIER_ONE', 'currentSeason': {'id': 2293, 'startDate': '2024-08-09', 'endDate': '2025-05-18', 'currentMatchday': 12, 'winner': None}, 'numberOfAvailableSeasons': 69, 'lastUpdated': '2024-09-13T16:34:42Z'}, {'id': 2017, 'area': {'id': 2187, 'name': 'Portugal', 'code': 'POR', 'flag': 'https://crests.football-data.org/765.svg'}, 'name': 'Primeira Liga', 'code': 'PPL', 'type': 'LEAGUE', 'emblem': 'https://crests.football-data.org/PPL.png', 'plan': 'TIER_ONE', 'currentSeason': {'id': 2312, 'startDate': '2024-08-11', 'endDate': '2025-05-17', 'currentMatchday': 11, 'winner': None}, 'numberOfAvailableSeasons': 76, 'lastUpdated': '2024-09-13T16:54:08Z'}, {'id': 2152, 'area': {'id': 2220, 'name': 'South America', 'code': 'SAM', 'flag': 'https://crests.football-data.org/CLI.svg'}, 'name': 'Copa Libertadores', 'code': 'CLI', 'type': 'CUP', 'emblem': 'https://crests.football-data.org/CLI.svg', 'plan': 'TIER_ONE', 'currentSeason': {'id': 1644, 'startDate': '2024-02-07', 'endDate': '2024-10-31', 'currentMatchday': 6, 'winner': None}, 'numberOfAvailableSeasons': 4, 'lastUpdated': '2024-10-05T16:10:37Z'}, {'id': 2014, 'area': {'id': 2224, 'name': 'Spain', 'code': 'ESP', 'flag': 'https://crests.football-data.org/760.svg'}, 'name': 'Primera Division', 'code': 'PD', 'type': 'LEAGUE', 'emblem': 'https://crests.football-data.org/laliga.png', 'plan': 'TIER_ONE', 'currentSeason': {'id': 2292, 'startDate': '2024-08-18', 'endDate': '2025-05-25', 'currentMatchday': 13, 'winner': None}, 'numberOfAvailableSeasons': 94, 'lastUpdated': '2024-09-13T16:52:33Z'}, {'id': 2000, 'area': {'id': 2267, 'name': 'World', 'code': 'INT', 'flag': None}, 'name': 'FIFA World Cup', 'code': 'WC', 'type': 'CUP', 'emblem': 'https://crests.football-data.org/qatar.png', 'plan': 'TIER_ONE', 'currentSeason': {'id': 1382, 'startDate': '2022-11-20', 'endDate': '2022-12-18', 'currentMatchday': 8, 'winner': {'id': 762, 'name': 'Argentina', 'shortName': 'Argentina', 'tla': 'ARG', 'crest': 'https://crests.football-data.org/762.png', 'address': 'Viamonte 1366/76 Buenos Aires, Buenos Aires 1053', 'website': 'http://www.afa.org.ar', 'founded': 1893, 'clubColors': 'Sky Blue / White / Black', 'venue': None, 'lastUpdated': '2022-05-17T21:09:25Z'}}, 'numberOfAvailableSeasons': 22, 'lastUpdated': '2024-09-13T17:04:20Z'}]}\n",
            "[{'id': 2013, 'area': {'id': 2032, 'name': 'Brazil', 'code': 'BRA', 'flag': 'https://crests.football-data.org/764.svg'}, 'name': 'Campeonato Brasileiro Série A', 'code': 'BSA', 'type': 'LEAGUE', 'emblem': 'https://crests.football-data.org/bsa.png', 'plan': 'TIER_ONE', 'currentSeason': {'id': 2257, 'startDate': '2024-04-13', 'endDate': '2024-12-08', 'currentMatchday': 33, 'winner': None}, 'numberOfAvailableSeasons': 8, 'lastUpdated': '2024-09-13T16:55:53Z'}, {'id': 2016, 'area': {'id': 2072, 'name': 'England', 'code': 'ENG', 'flag': 'https://crests.football-data.org/770.svg'}, 'name': 'Championship', 'code': 'ELC', 'type': 'LEAGUE', 'emblem': 'https://crests.football-data.org/ELC.png', 'plan': 'TIER_ONE', 'currentSeason': {'id': 2301, 'startDate': '2024-08-09', 'endDate': '2025-05-03', 'currentMatchday': 14, 'winner': None}, 'numberOfAvailableSeasons': 8, 'lastUpdated': '2024-09-13T16:51:18Z'}, {'id': 2021, 'area': {'id': 2072, 'name': 'England', 'code': 'ENG', 'flag': 'https://crests.football-data.org/770.svg'}, 'name': 'Premier League', 'code': 'PL', 'type': 'LEAGUE', 'emblem': 'https://crests.football-data.org/PL.png', 'plan': 'TIER_ONE', 'currentSeason': {'id': 2287, 'startDate': '2024-08-16', 'endDate': '2025-05-25', 'currentMatchday': 11, 'winner': None}, 'numberOfAvailableSeasons': 126, 'lastUpdated': '2024-09-13T16:51:24Z'}, {'id': 2001, 'area': {'id': 2077, 'name': 'Europe', 'code': 'EUR', 'flag': 'https://crests.football-data.org/EUR.svg'}, 'name': 'UEFA Champions League', 'code': 'CL', 'type': 'CUP', 'emblem': 'https://crests.football-data.org/CL.png', 'plan': 'TIER_ONE', 'currentSeason': {'id': 2350, 'startDate': '2024-09-17', 'endDate': '2025-05-31', 'currentMatchday': 4, 'winner': None}, 'numberOfAvailableSeasons': 45, 'lastUpdated': '2024-09-13T16:53:48Z'}, {'id': 2018, 'area': {'id': 2077, 'name': 'Europe', 'code': 'EUR', 'flag': 'https://crests.football-data.org/EUR.svg'}, 'name': 'European Championship', 'code': 'EC', 'type': 'CUP', 'emblem': 'https://crests.football-data.org/ec.png', 'plan': 'TIER_ONE', 'currentSeason': {'id': 1537, 'startDate': '2024-06-14', 'endDate': '2024-07-14', 'currentMatchday': 7, 'winner': {'id': 760, 'name': 'Spain', 'shortName': 'Spain', 'tla': 'ESP', 'crest': 'https://crests.football-data.org/760.svg', 'address': 'Ramón y Cajal, s/n Las Rozas 28230', 'website': 'http://www.rfef.es', 'founded': 1909, 'clubColors': 'Red / Blue / Yellow', 'venue': 'Estadio Alfredo Di Stéfano', 'lastUpdated': '2021-05-26T09:46:48Z'}}, 'numberOfAvailableSeasons': 17, 'lastUpdated': '2024-09-13T17:04:30Z'}, {'id': 2015, 'area': {'id': 2081, 'name': 'France', 'code': 'FRA', 'flag': 'https://crests.football-data.org/773.svg'}, 'name': 'Ligue 1', 'code': 'FL1', 'type': 'LEAGUE', 'emblem': 'https://crests.football-data.org/FL1.png', 'plan': 'TIER_ONE', 'currentSeason': {'id': 2290, 'startDate': '2024-08-18', 'endDate': '2025-05-18', 'currentMatchday': 11, 'winner': None}, 'numberOfAvailableSeasons': 81, 'lastUpdated': '2024-09-13T16:49:18Z'}, {'id': 2002, 'area': {'id': 2088, 'name': 'Germany', 'code': 'DEU', 'flag': 'https://crests.football-data.org/759.svg'}, 'name': 'Bundesliga', 'code': 'BL1', 'type': 'LEAGUE', 'emblem': 'https://crests.football-data.org/BL1.png', 'plan': 'TIER_ONE', 'currentSeason': {'id': 2308, 'startDate': '2024-08-23', 'endDate': '2025-05-17', 'currentMatchday': 10, 'winner': None}, 'numberOfAvailableSeasons': 62, 'lastUpdated': '2024-09-13T16:48:00Z'}, {'id': 2019, 'area': {'id': 2114, 'name': 'Italy', 'code': 'ITA', 'flag': 'https://crests.football-data.org/784.svg'}, 'name': 'Serie A', 'code': 'SA', 'type': 'LEAGUE', 'emblem': 'https://crests.football-data.org/SA.png', 'plan': 'TIER_ONE', 'currentSeason': {'id': 2310, 'startDate': '2024-08-18', 'endDate': '2025-05-25', 'currentMatchday': 12, 'winner': None}, 'numberOfAvailableSeasons': 93, 'lastUpdated': '2024-09-13T16:50:07Z'}, {'id': 2003, 'area': {'id': 2163, 'name': 'Netherlands', 'code': 'NLD', 'flag': 'https://crests.football-data.org/8601.svg'}, 'name': 'Eredivisie', 'code': 'DED', 'type': 'LEAGUE', 'emblem': 'https://crests.football-data.org/ED.png', 'plan': 'TIER_ONE', 'currentSeason': {'id': 2293, 'startDate': '2024-08-09', 'endDate': '2025-05-18', 'currentMatchday': 12, 'winner': None}, 'numberOfAvailableSeasons': 69, 'lastUpdated': '2024-09-13T16:34:42Z'}, {'id': 2017, 'area': {'id': 2187, 'name': 'Portugal', 'code': 'POR', 'flag': 'https://crests.football-data.org/765.svg'}, 'name': 'Primeira Liga', 'code': 'PPL', 'type': 'LEAGUE', 'emblem': 'https://crests.football-data.org/PPL.png', 'plan': 'TIER_ONE', 'currentSeason': {'id': 2312, 'startDate': '2024-08-11', 'endDate': '2025-05-17', 'currentMatchday': 11, 'winner': None}, 'numberOfAvailableSeasons': 76, 'lastUpdated': '2024-09-13T16:54:08Z'}, {'id': 2152, 'area': {'id': 2220, 'name': 'South America', 'code': 'SAM', 'flag': 'https://crests.football-data.org/CLI.svg'}, 'name': 'Copa Libertadores', 'code': 'CLI', 'type': 'CUP', 'emblem': 'https://crests.football-data.org/CLI.svg', 'plan': 'TIER_ONE', 'currentSeason': {'id': 1644, 'startDate': '2024-02-07', 'endDate': '2024-10-31', 'currentMatchday': 6, 'winner': None}, 'numberOfAvailableSeasons': 4, 'lastUpdated': '2024-10-05T16:10:37Z'}, {'id': 2014, 'area': {'id': 2224, 'name': 'Spain', 'code': 'ESP', 'flag': 'https://crests.football-data.org/760.svg'}, 'name': 'Primera Division', 'code': 'PD', 'type': 'LEAGUE', 'emblem': 'https://crests.football-data.org/laliga.png', 'plan': 'TIER_ONE', 'currentSeason': {'id': 2292, 'startDate': '2024-08-18', 'endDate': '2025-05-25', 'currentMatchday': 13, 'winner': None}, 'numberOfAvailableSeasons': 94, 'lastUpdated': '2024-09-13T16:52:33Z'}, {'id': 2000, 'area': {'id': 2267, 'name': 'World', 'code': 'INT', 'flag': None}, 'name': 'FIFA World Cup', 'code': 'WC', 'type': 'CUP', 'emblem': 'https://crests.football-data.org/qatar.png', 'plan': 'TIER_ONE', 'currentSeason': {'id': 1382, 'startDate': '2022-11-20', 'endDate': '2022-12-18', 'currentMatchday': 8, 'winner': {'id': 762, 'name': 'Argentina', 'shortName': 'Argentina', 'tla': 'ARG', 'crest': 'https://crests.football-data.org/762.png', 'address': 'Viamonte 1366/76 Buenos Aires, Buenos Aires 1053', 'website': 'http://www.afa.org.ar', 'founded': 1893, 'clubColors': 'Sky Blue / White / Black', 'venue': None, 'lastUpdated': '2022-05-17T21:09:25Z'}}, 'numberOfAvailableSeasons': 22, 'lastUpdated': '2024-09-13T17:04:20Z'}]\n",
            "{'id': 2013, 'area': {'id': 2032, 'name': 'Brazil', 'code': 'BRA', 'flag': 'https://crests.football-data.org/764.svg'}, 'name': 'Campeonato Brasileiro Série A', 'code': 'BSA', 'type': 'LEAGUE', 'emblem': 'https://crests.football-data.org/bsa.png', 'plan': 'TIER_ONE', 'currentSeason': {'id': 2257, 'startDate': '2024-04-13', 'endDate': '2024-12-08', 'currentMatchday': 33, 'winner': None}, 'numberOfAvailableSeasons': 8, 'lastUpdated': '2024-09-13T16:55:53Z'}\n",
            "{'id': 2016, 'area': {'id': 2072, 'name': 'England', 'code': 'ENG', 'flag': 'https://crests.football-data.org/770.svg'}, 'name': 'Championship', 'code': 'ELC', 'type': 'LEAGUE', 'emblem': 'https://crests.football-data.org/ELC.png', 'plan': 'TIER_ONE', 'currentSeason': {'id': 2301, 'startDate': '2024-08-09', 'endDate': '2025-05-03', 'currentMatchday': 14, 'winner': None}, 'numberOfAvailableSeasons': 8, 'lastUpdated': '2024-09-13T16:51:18Z'}\n",
            "{'id': 2021, 'area': {'id': 2072, 'name': 'England', 'code': 'ENG', 'flag': 'https://crests.football-data.org/770.svg'}, 'name': 'Premier League', 'code': 'PL', 'type': 'LEAGUE', 'emblem': 'https://crests.football-data.org/PL.png', 'plan': 'TIER_ONE', 'currentSeason': {'id': 2287, 'startDate': '2024-08-16', 'endDate': '2025-05-25', 'currentMatchday': 11, 'winner': None}, 'numberOfAvailableSeasons': 126, 'lastUpdated': '2024-09-13T16:51:24Z'}\n",
            "{'id': 2001, 'area': {'id': 2077, 'name': 'Europe', 'code': 'EUR', 'flag': 'https://crests.football-data.org/EUR.svg'}, 'name': 'UEFA Champions League', 'code': 'CL', 'type': 'CUP', 'emblem': 'https://crests.football-data.org/CL.png', 'plan': 'TIER_ONE', 'currentSeason': {'id': 2350, 'startDate': '2024-09-17', 'endDate': '2025-05-31', 'currentMatchday': 4, 'winner': None}, 'numberOfAvailableSeasons': 45, 'lastUpdated': '2024-09-13T16:53:48Z'}\n",
            "{'id': 2018, 'area': {'id': 2077, 'name': 'Europe', 'code': 'EUR', 'flag': 'https://crests.football-data.org/EUR.svg'}, 'name': 'European Championship', 'code': 'EC', 'type': 'CUP', 'emblem': 'https://crests.football-data.org/ec.png', 'plan': 'TIER_ONE', 'currentSeason': {'id': 1537, 'startDate': '2024-06-14', 'endDate': '2024-07-14', 'currentMatchday': 7, 'winner': {'id': 760, 'name': 'Spain', 'shortName': 'Spain', 'tla': 'ESP', 'crest': 'https://crests.football-data.org/760.svg', 'address': 'Ramón y Cajal, s/n Las Rozas 28230', 'website': 'http://www.rfef.es', 'founded': 1909, 'clubColors': 'Red / Blue / Yellow', 'venue': 'Estadio Alfredo Di Stéfano', 'lastUpdated': '2021-05-26T09:46:48Z'}}, 'numberOfAvailableSeasons': 17, 'lastUpdated': '2024-09-13T17:04:30Z'}\n",
            "{'id': 2015, 'area': {'id': 2081, 'name': 'France', 'code': 'FRA', 'flag': 'https://crests.football-data.org/773.svg'}, 'name': 'Ligue 1', 'code': 'FL1', 'type': 'LEAGUE', 'emblem': 'https://crests.football-data.org/FL1.png', 'plan': 'TIER_ONE', 'currentSeason': {'id': 2290, 'startDate': '2024-08-18', 'endDate': '2025-05-18', 'currentMatchday': 11, 'winner': None}, 'numberOfAvailableSeasons': 81, 'lastUpdated': '2024-09-13T16:49:18Z'}\n",
            "{'id': 2002, 'area': {'id': 2088, 'name': 'Germany', 'code': 'DEU', 'flag': 'https://crests.football-data.org/759.svg'}, 'name': 'Bundesliga', 'code': 'BL1', 'type': 'LEAGUE', 'emblem': 'https://crests.football-data.org/BL1.png', 'plan': 'TIER_ONE', 'currentSeason': {'id': 2308, 'startDate': '2024-08-23', 'endDate': '2025-05-17', 'currentMatchday': 10, 'winner': None}, 'numberOfAvailableSeasons': 62, 'lastUpdated': '2024-09-13T16:48:00Z'}\n",
            "{'id': 2019, 'area': {'id': 2114, 'name': 'Italy', 'code': 'ITA', 'flag': 'https://crests.football-data.org/784.svg'}, 'name': 'Serie A', 'code': 'SA', 'type': 'LEAGUE', 'emblem': 'https://crests.football-data.org/SA.png', 'plan': 'TIER_ONE', 'currentSeason': {'id': 2310, 'startDate': '2024-08-18', 'endDate': '2025-05-25', 'currentMatchday': 12, 'winner': None}, 'numberOfAvailableSeasons': 93, 'lastUpdated': '2024-09-13T16:50:07Z'}\n",
            "{'id': 2003, 'area': {'id': 2163, 'name': 'Netherlands', 'code': 'NLD', 'flag': 'https://crests.football-data.org/8601.svg'}, 'name': 'Eredivisie', 'code': 'DED', 'type': 'LEAGUE', 'emblem': 'https://crests.football-data.org/ED.png', 'plan': 'TIER_ONE', 'currentSeason': {'id': 2293, 'startDate': '2024-08-09', 'endDate': '2025-05-18', 'currentMatchday': 12, 'winner': None}, 'numberOfAvailableSeasons': 69, 'lastUpdated': '2024-09-13T16:34:42Z'}\n",
            "{'id': 2017, 'area': {'id': 2187, 'name': 'Portugal', 'code': 'POR', 'flag': 'https://crests.football-data.org/765.svg'}, 'name': 'Primeira Liga', 'code': 'PPL', 'type': 'LEAGUE', 'emblem': 'https://crests.football-data.org/PPL.png', 'plan': 'TIER_ONE', 'currentSeason': {'id': 2312, 'startDate': '2024-08-11', 'endDate': '2025-05-17', 'currentMatchday': 11, 'winner': None}, 'numberOfAvailableSeasons': 76, 'lastUpdated': '2024-09-13T16:54:08Z'}\n",
            "{'id': 2152, 'area': {'id': 2220, 'name': 'South America', 'code': 'SAM', 'flag': 'https://crests.football-data.org/CLI.svg'}, 'name': 'Copa Libertadores', 'code': 'CLI', 'type': 'CUP', 'emblem': 'https://crests.football-data.org/CLI.svg', 'plan': 'TIER_ONE', 'currentSeason': {'id': 1644, 'startDate': '2024-02-07', 'endDate': '2024-10-31', 'currentMatchday': 6, 'winner': None}, 'numberOfAvailableSeasons': 4, 'lastUpdated': '2024-10-05T16:10:37Z'}\n",
            "{'id': 2014, 'area': {'id': 2224, 'name': 'Spain', 'code': 'ESP', 'flag': 'https://crests.football-data.org/760.svg'}, 'name': 'Primera Division', 'code': 'PD', 'type': 'LEAGUE', 'emblem': 'https://crests.football-data.org/laliga.png', 'plan': 'TIER_ONE', 'currentSeason': {'id': 2292, 'startDate': '2024-08-18', 'endDate': '2025-05-25', 'currentMatchday': 13, 'winner': None}, 'numberOfAvailableSeasons': 94, 'lastUpdated': '2024-09-13T16:52:33Z'}\n",
            "{'id': 2000, 'area': {'id': 2267, 'name': 'World', 'code': 'INT', 'flag': None}, 'name': 'FIFA World Cup', 'code': 'WC', 'type': 'CUP', 'emblem': 'https://crests.football-data.org/qatar.png', 'plan': 'TIER_ONE', 'currentSeason': {'id': 1382, 'startDate': '2022-11-20', 'endDate': '2022-12-18', 'currentMatchday': 8, 'winner': {'id': 762, 'name': 'Argentina', 'shortName': 'Argentina', 'tla': 'ARG', 'crest': 'https://crests.football-data.org/762.png', 'address': 'Viamonte 1366/76 Buenos Aires, Buenos Aires 1053', 'website': 'http://www.afa.org.ar', 'founded': 1893, 'clubColors': 'Sky Blue / White / Black', 'venue': None, 'lastUpdated': '2022-05-17T21:09:25Z'}}, 'numberOfAvailableSeasons': 22, 'lastUpdated': '2024-09-13T17:04:20Z'}\n"
          ]
        }
      ]
    },
    {
      "cell_type": "code",
      "source": [
        "import requests\n",
        "from datetime import datetime\n",
        "\n",
        "# Your API key\n",
        "api_key = '6f3408bde6ba42f98e7b24d7edd6473b'\n",
        "\n",
        "# Example endpoint for match results\n",
        "url = 'https://api.football-data.org/v4/matches'\n",
        "\n",
        "# Set up the headers with the API key\n",
        "headers = {\n",
        "    'X-Auth-Token': api_key\n",
        "}\n",
        "\n",
        "# Make the request\n",
        "response = requests.get(url, headers=headers)\n",
        "\n",
        "# Check if the request was successful\n",
        "if response.status_code == 200:\n",
        "    data = response.json()\n",
        "    matches = data.get('matches', [])\n",
        "\n",
        "    # Filter matches by year (2000)\n",
        "    year_2000_matches = [match for match in matches if datetime.strptime(match['utcDate'], '%Y-%m-%dT%H:%M:%SZ').year == 2000]\n",
        "\n",
        "    # Print the filtered matches\n",
        "    for match in year_2000_matches:\n",
        "        print(match)\n",
        "\n",
        "else:\n",
        "    print(f\"Error: {response.status_code}\")"
      ],
      "metadata": {
        "id": "itHsTY4LZI3r"
      },
      "execution_count": 44,
      "outputs": []
    }
  ]
}